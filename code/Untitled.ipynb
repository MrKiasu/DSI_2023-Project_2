{
 "cells": [
  {
   "cell_type": "code",
   "execution_count": 1,
   "id": "6d45067d",
   "metadata": {},
   "outputs": [],
   "source": [
    "import pandas as pd"
   ]
  },
  {
   "cell_type": "code",
   "execution_count": 33,
   "id": "42ee9a07",
   "metadata": {},
   "outputs": [],
   "source": [
    "full_flat_type = \"2 ROOM Premium Apartment\"\n",
    "postal_sector = \"Tampines\""
   ]
  },
  {
   "cell_type": "code",
   "execution_count": 5,
   "id": "f338d029",
   "metadata": {},
   "outputs": [],
   "source": [
    "df_sector_CBD = pd.read_csv(\"../data/postal_sector_to_CBD.csv\", sep = \";\")\n",
    "df_flat_sqm = pd.read_csv(\"../data/full_flat_type_mean_sqm.csv\")"
   ]
  },
  {
   "cell_type": "code",
   "execution_count": 39,
   "id": "fd61818a",
   "metadata": {},
   "outputs": [
    {
     "data": {
      "text/html": [
       "<div>\n",
       "<style scoped>\n",
       "    .dataframe tbody tr th:only-of-type {\n",
       "        vertical-align: middle;\n",
       "    }\n",
       "\n",
       "    .dataframe tbody tr th {\n",
       "        vertical-align: top;\n",
       "    }\n",
       "\n",
       "    .dataframe thead th {\n",
       "        text-align: right;\n",
       "    }\n",
       "</style>\n",
       "<table border=\"1\" class=\"dataframe\">\n",
       "  <thead>\n",
       "    <tr style=\"text-align: right;\">\n",
       "      <th></th>\n",
       "      <th>Postal Sector</th>\n",
       "      <th>dist_CBD</th>\n",
       "    </tr>\n",
       "  </thead>\n",
       "  <tbody>\n",
       "    <tr>\n",
       "      <th>2</th>\n",
       "      <td>Queenstown</td>\n",
       "      <td>14</td>\n",
       "    </tr>\n",
       "    <tr>\n",
       "      <th>0</th>\n",
       "      <td>Raffles Place</td>\n",
       "      <td>5</td>\n",
       "    </tr>\n",
       "    <tr>\n",
       "      <th>15</th>\n",
       "      <td>Tampines</td>\n",
       "      <td>52</td>\n",
       "    </tr>\n",
       "    <tr>\n",
       "      <th>8</th>\n",
       "      <td>Novena</td>\n",
       "      <td>30</td>\n",
       "    </tr>\n",
       "    <tr>\n",
       "      <th>4</th>\n",
       "      <td>Pasir Panjang</td>\n",
       "      <td>12</td>\n",
       "    </tr>\n",
       "    <tr>\n",
       "      <th>21</th>\n",
       "      <td>Kranji</td>\n",
       "      <td>73</td>\n",
       "    </tr>\n",
       "    <tr>\n",
       "      <th>5</th>\n",
       "      <td>Golden Mile</td>\n",
       "      <td>19</td>\n",
       "    </tr>\n",
       "    <tr>\n",
       "      <th>20</th>\n",
       "      <td>Bukit Panjang</td>\n",
       "      <td>68</td>\n",
       "    </tr>\n",
       "    <tr>\n",
       "      <th>1</th>\n",
       "      <td>Tanjong Pagar</td>\n",
       "      <td>8</td>\n",
       "    </tr>\n",
       "    <tr>\n",
       "      <th>16</th>\n",
       "      <td>Hougang\"</td>\n",
       "      <td>82</td>\n",
       "    </tr>\n",
       "  </tbody>\n",
       "</table>\n",
       "</div>"
      ],
      "text/plain": [
       "    Postal Sector  dist_CBD\n",
       "2      Queenstown        14\n",
       "0   Raffles Place         5\n",
       "15       Tampines        52\n",
       "8          Novena        30\n",
       "4   Pasir Panjang        12\n",
       "21         Kranji        73\n",
       "5     Golden Mile        19\n",
       "20  Bukit Panjang        68\n",
       "1   Tanjong Pagar         8\n",
       "16       Hougang\"        82"
      ]
     },
     "execution_count": 39,
     "metadata": {},
     "output_type": "execute_result"
    }
   ],
   "source": [
    "df_sector_CBD.sample(10)"
   ]
  },
  {
   "cell_type": "code",
   "execution_count": 37,
   "id": "00157a94",
   "metadata": {},
   "outputs": [
    {
     "name": "stdout",
     "output_type": "stream",
     "text": [
      "4    51.783784\n",
      "Name: mean_floor_area_sqm, dtype: float64\n"
     ]
    }
   ],
   "source": [
    "floor_area_sqm = df_flat_sqm.loc[df_flat_sqm[\"full_flat_type\"] == full_flat_type][\"mean_floor_area_sqm\"]\n",
    "print(floor_area_sqm)"
   ]
  },
  {
   "cell_type": "code",
   "execution_count": 32,
   "id": "1439f717",
   "metadata": {},
   "outputs": [
    {
     "name": "stdout",
     "output_type": "stream",
     "text": [
      "4    51.783784\n",
      "Name: mean_floor_area_sqm, dtype: float64\n"
     ]
    }
   ],
   "source": []
  },
  {
   "cell_type": "code",
   "execution_count": 40,
   "id": "9b867a88",
   "metadata": {},
   "outputs": [],
   "source": [
    "dist_CBD = df_sector_CBD[df_sector_CBD[\"Postal Sector\"] == postal_sector][\"dist_CBD\"]"
   ]
  },
  {
   "cell_type": "code",
   "execution_count": 41,
   "id": "a0f7bd42",
   "metadata": {},
   "outputs": [
    {
     "name": "stdout",
     "output_type": "stream",
     "text": [
      "15    52\n",
      "Name: dist_CBD, dtype: int64\n"
     ]
    }
   ],
   "source": [
    "print(dist_CBD)"
   ]
  },
  {
   "cell_type": "code",
   "execution_count": null,
   "id": "193dc2a3",
   "metadata": {},
   "outputs": [],
   "source": []
  }
 ],
 "metadata": {
  "kernelspec": {
   "display_name": "Python 3 (ipykernel)",
   "language": "python",
   "name": "python3"
  },
  "language_info": {
   "codemirror_mode": {
    "name": "ipython",
    "version": 3
   },
   "file_extension": ".py",
   "mimetype": "text/x-python",
   "name": "python",
   "nbconvert_exporter": "python",
   "pygments_lexer": "ipython3",
   "version": "3.11.3"
  }
 },
 "nbformat": 4,
 "nbformat_minor": 5
}
